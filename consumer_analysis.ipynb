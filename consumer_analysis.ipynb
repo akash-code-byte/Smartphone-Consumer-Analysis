{
 "cells": [
  {
   "cell_type": "code",
   "execution_count": null,
   "id": "d1d5f3d5",
   "metadata": {},
   "outputs": [],
   "source": [
    "import pandas as pd\n",
    "import numpy as np\n",
    "import matplotlib.pyplot as plt\n",
    "import seaborn as sns\n",
    "from scipy.stats import pearsonr\n",
    "from itertools import product\n",
    "from sklearn.cluster import KMeans\n",
    "from sklearn.model_selection import train_test_split\n",
    "from sklearn.linear_model import LinearRegression\n",
    "from sklearn.preprocessing import LabelEncoder\n",
    "\n",
    "# Load dataset\n",
    "df = pd.read_csv(\"data/smartphone_data.csv\")\n",
    "\n",
    "# Descriptive Analysis\n",
    "df.describe()"
   ]
  },
  {
   "cell_type": "code",
   "execution_count": null,
   "id": "b2f3d5c7",
   "metadata": {},
   "outputs": [],
   "source": [
    "# Price Distribution\n",
    "plt.figure(figsize=(8, 5))\n",
    "sns.histplot(df[\"Price\"], bins=10, kde=True, color=\"blue\")\n",
    "plt.title(\"Price Distribution of Smartphones\")\n",
    "plt.xlabel(\"Price (INR)\")\n",
    "plt.ylabel(\"Count\")\n",
    "plt.show()"
   ]
  },
  {
   "cell_type": "code",
   "execution_count": null,
   "id": "c3a2d7e8",
   "metadata": {},
   "outputs": [],
   "source": [
    "# Correlation Analysis\n",
    "correlation_matrix = df.corr(numeric_only=True)\n",
    "correlation_matrix"
   ]
  },
  {
   "cell_type": "code",
   "execution_count": null,
   "id": "e4b3f8a9",
   "metadata": {},
   "outputs": [],
   "source": [
    "plt.figure(figsize=(10, 6))\n",
    "sns.heatmap(correlation_matrix, annot=True, cmap=\"coolwarm\", fmt=\".2f\")\n",
    "plt.title(\"Feature Correlation Heatmap\")\n",
    "plt.show()"
   ]
  },
  {
   "cell_type": "code",
   "execution_count": null,
   "id": "f5d4g9b1",
   "metadata": {},
   "outputs": [],
   "source": [
    "# Conjoint Analysis\n",
    "attributes = {\n",
    "    \"Brand\": df[\"Brand\"].unique(),\n",
    "    \"Storage\": df[\"Storage\"].unique(),\n",
    "    \"RAM\": df[\"RAM\"].unique()\n",
    "}\n",
    "profiles = list(product(*attributes.values()))\n",
    "profiles_df = pd.DataFrame(profiles, columns=attributes.keys())\n",
    "np.random.seed(42)\n",
    "profiles_df[\"Preference_Score\"] = np.random.randint(1, 100, len(profiles_df))\n",
    "profiles_df.head()"
   ]
  },
  {
   "cell_type": "code",
   "execution_count": null,
   "id": "g6e5h1c2",
   "metadata": {},
   "outputs": [],
   "source": [
    "# Feature Importance and Price Prediction\n",
    "df[\"Brand\"] = LabelEncoder().fit_transform(df[\"Brand\"])\n",
    "df[\"Storage\"] = df[\"Storage\"].str.replace(\"GB\", \"\").astype(int)\n",
    "df[\"RAM\"] = df[\"RAM\"].str.replace(\"GB\", \"\").astype(int)\n",
    "df[\"Camera\"] = df[\"Camera\"].str.replace(\"MP\", \"\").astype(int)\n",
    "X = df.drop(columns=[\"Price\", \"Processor\"])\n",
    "y = df[\"Price\"]\n",
    "model = LinearRegression()\n",
    "model.fit(X, y)\n",
    "feature_importance = pd.DataFrame({\"Feature\": X.columns, \"Importance\": model.coef_})\n",
    "feature_importance.sort_values(by=\"Importance\", ascending=False)"
   ]
  }
 ],
 "metadata": {
  "kernelspec": {
   "display_name": "Python 3",
   "language": "python",
   "name": "python3"
  },
  "language_info": {
   "codemirror_mode": {
    "name": "ipython",
    "version": 3
   },
   "file_extension": ".py",
   "mimetype": "text/x-python",
   "name": "python",
   "nbconvert_exporter": "python",
   "pygments_lexer": "ipython3",
   "version": "3.8"
  }
 },
 "nbformat": 4,
 "nbformat_minor": 4
}
